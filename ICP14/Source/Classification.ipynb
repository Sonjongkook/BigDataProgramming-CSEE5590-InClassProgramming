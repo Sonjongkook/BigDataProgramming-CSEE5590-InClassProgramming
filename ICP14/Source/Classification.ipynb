{
  "nbformat": 4,
  "nbformat_minor": 0,
  "metadata": {
    "colab": {
      "name": "Classification.ipynb",
      "provenance": []
    },
    "kernelspec": {
      "name": "python3",
      "display_name": "Python 3"
    },
    "language_info": {
      "name": "python"
    }
  },
  "cells": [
    {
      "cell_type": "code",
      "metadata": {
        "colab": {
          "base_uri": "https://localhost:8080/"
        },
        "id": "gWApWaiBtFNE",
        "outputId": "a51d1707-2894-47aa-f6a0-ac3efbbfa45b"
      },
      "source": [
        "!pip install pyspark"
      ],
      "execution_count": 6,
      "outputs": [
        {
          "output_type": "stream",
          "text": [
            "Requirement already satisfied: pyspark in /usr/local/lib/python3.7/dist-packages (3.1.1)\n",
            "Requirement already satisfied: py4j==0.10.9 in /usr/local/lib/python3.7/dist-packages (from pyspark) (0.10.9)\n"
          ],
          "name": "stdout"
        }
      ]
    },
    {
      "cell_type": "code",
      "metadata": {
        "id": "2CcLL2I7s4Uv"
      },
      "source": [
        "from pyspark.ml.feature import VectorAssembler\n",
        "from pyspark.ml.classification import NaiveBayes\n",
        "from pyspark.ml.evaluation import MulticlassClassificationEvaluator\n",
        "#import numpy\n",
        "# Load training data\n",
        "from pyspark.ml.linalg import SparseVector\n",
        "# from pyspark.python.pyspark.shell import spark\n",
        "from pyspark.sql import SparkSession\n",
        "import os"
      ],
      "execution_count": 7,
      "outputs": []
    },
    {
      "cell_type": "code",
      "metadata": {
        "id": "Cop3-XZQtVip"
      },
      "source": [
        "os.environ[\"HADOOP_HOME\"] = \"C:/winutils\""
      ],
      "execution_count": 8,
      "outputs": []
    },
    {
      "cell_type": "code",
      "metadata": {
        "id": "auDWeDA9tkH-"
      },
      "source": [
        "# Creating spark session\n",
        "spark = SparkSession.builder.appName(\"ICP7\").getOrCreate()\n",
        "spark.sparkContext.setLogLevel(\"ERROR\")"
      ],
      "execution_count": 9,
      "outputs": []
    },
    {
      "cell_type": "code",
      "metadata": {
        "id": "2En6BFw_toL5",
        "colab": {
          "base_uri": "https://localhost:8080/"
        },
        "outputId": "138e3442-1887-4ba2-f3a9-987888c2c497"
      },
      "source": [
        "data = spark.read.load(\"/content/drive/MyDrive/adult.csv\", format=\"csv\", header=True, delimiter=\",\")\n",
        "data.show(5)"
      ],
      "execution_count": 10,
      "outputs": [
        {
          "output_type": "stream",
          "text": [
            "+---+-----------------+------+----------+-------------+-------------------+------------------+--------------+------+-------+------------+------------+--------------+--------------+------+\n",
            "|age|        workclass|fnlwgt| education|education-num|     marital-status|        occupation|  relationship|  race|    sex|capital-gain|capital-loss|hours-per-week|native-country|income|\n",
            "+---+-----------------+------+----------+-------------+-------------------+------------------+--------------+------+-------+------------+------------+--------------+--------------+------+\n",
            "| 39|        State-gov| 77516| Bachelors|           13|      Never-married|      Adm-clerical| Not-in-family| White|   Male|        2174|           0|            40| United-States| <=50K|\n",
            "| 50| Self-emp-not-inc| 83311| Bachelors|           13| Married-civ-spouse|   Exec-managerial|       Husband| White|   Male|           0|           0|            13| United-States| <=50K|\n",
            "| 38|          Private|215646|   HS-grad|            9|           Divorced| Handlers-cleaners| Not-in-family| White|   Male|           0|           0|            40| United-States| <=50K|\n",
            "| 53|          Private|234721|      11th|            7| Married-civ-spouse| Handlers-cleaners|       Husband| Black|   Male|           0|           0|            40| United-States| <=50K|\n",
            "| 28|          Private|338409| Bachelors|           13| Married-civ-spouse|    Prof-specialty|          Wife| Black| Female|           0|           0|            40|          Cuba| <=50K|\n",
            "+---+-----------------+------+----------+-------------+-------------------+------------------+--------------+------+-------+------------+------------+--------------+--------------+------+\n",
            "only showing top 5 rows\n",
            "\n"
          ],
          "name": "stdout"
        }
      ]
    },
    {
      "cell_type": "code",
      "metadata": {
        "colab": {
          "base_uri": "https://localhost:8080/"
        },
        "id": "GvPhvr_dg_qy",
        "outputId": "aa073af0-944c-4d64-8139-0325f879b65a"
      },
      "source": [
        "data = data.select(\"age\",\"capital-gain\",\"education-num\",\"hours-per-week\",\"income\")\n",
        "data.show()\n"
      ],
      "execution_count": 11,
      "outputs": [
        {
          "output_type": "stream",
          "text": [
            "+---+------------+-------------+--------------+------+\n",
            "|age|capital-gain|education-num|hours-per-week|income|\n",
            "+---+------------+-------------+--------------+------+\n",
            "| 39|        2174|           13|            40| <=50K|\n",
            "| 50|           0|           13|            13| <=50K|\n",
            "| 38|           0|            9|            40| <=50K|\n",
            "| 53|           0|            7|            40| <=50K|\n",
            "| 28|           0|           13|            40| <=50K|\n",
            "| 37|           0|           14|            40| <=50K|\n",
            "| 49|           0|            5|            16| <=50K|\n",
            "| 52|           0|            9|            45|  >50K|\n",
            "| 31|       14084|           14|            50|  >50K|\n",
            "| 42|        5178|           13|            40|  >50K|\n",
            "| 37|           0|           10|            80|  >50K|\n",
            "| 30|           0|           13|            40|  >50K|\n",
            "| 23|           0|           13|            30| <=50K|\n",
            "| 32|           0|           12|            50| <=50K|\n",
            "| 40|           0|           11|            40|  >50K|\n",
            "| 34|           0|            4|            45| <=50K|\n",
            "| 25|           0|            9|            35| <=50K|\n",
            "| 32|           0|            9|            40| <=50K|\n",
            "| 38|           0|            7|            50| <=50K|\n",
            "| 43|           0|           14|            45|  >50K|\n",
            "+---+------------+-------------+--------------+------+\n",
            "only showing top 20 rows\n",
            "\n"
          ],
          "name": "stdout"
        }
      ]
    },
    {
      "cell_type": "code",
      "metadata": {
        "colab": {
          "base_uri": "https://localhost:8080/"
        },
        "id": "VKcYylPjg_oQ",
        "outputId": "007e1827-4269-43be-80d7-401d7c325022"
      },
      "source": [
        "print(\"The number of rows: \")\n",
        "data.count()"
      ],
      "execution_count": 12,
      "outputs": [
        {
          "output_type": "stream",
          "text": [
            "The number of rows: \n"
          ],
          "name": "stdout"
        },
        {
          "output_type": "execute_result",
          "data": {
            "text/plain": [
              "32561"
            ]
          },
          "metadata": {
            "tags": []
          },
          "execution_count": 12
        }
      ]
    },
    {
      "cell_type": "code",
      "metadata": {
        "id": "wYdQcsnag_jS"
      },
      "source": [
        "from pyspark.ml.feature import StringIndexer\n",
        "indexer = StringIndexer(inputCol=\"income\", outputCol=\"label\") \n",
        "data_converted = indexer.fit(data).transform(data)"
      ],
      "execution_count": 13,
      "outputs": []
    },
    {
      "cell_type": "code",
      "metadata": {
        "colab": {
          "base_uri": "https://localhost:8080/"
        },
        "id": "cRuBNGntg_fr",
        "outputId": "bb431884-3a71-45a8-db7d-091da2eae196"
      },
      "source": [
        "data_converted.show()"
      ],
      "execution_count": 14,
      "outputs": [
        {
          "output_type": "stream",
          "text": [
            "+---+------------+-------------+--------------+------+-----+\n",
            "|age|capital-gain|education-num|hours-per-week|income|label|\n",
            "+---+------------+-------------+--------------+------+-----+\n",
            "| 39|        2174|           13|            40| <=50K|  0.0|\n",
            "| 50|           0|           13|            13| <=50K|  0.0|\n",
            "| 38|           0|            9|            40| <=50K|  0.0|\n",
            "| 53|           0|            7|            40| <=50K|  0.0|\n",
            "| 28|           0|           13|            40| <=50K|  0.0|\n",
            "| 37|           0|           14|            40| <=50K|  0.0|\n",
            "| 49|           0|            5|            16| <=50K|  0.0|\n",
            "| 52|           0|            9|            45|  >50K|  1.0|\n",
            "| 31|       14084|           14|            50|  >50K|  1.0|\n",
            "| 42|        5178|           13|            40|  >50K|  1.0|\n",
            "| 37|           0|           10|            80|  >50K|  1.0|\n",
            "| 30|           0|           13|            40|  >50K|  1.0|\n",
            "| 23|           0|           13|            30| <=50K|  0.0|\n",
            "| 32|           0|           12|            50| <=50K|  0.0|\n",
            "| 40|           0|           11|            40|  >50K|  1.0|\n",
            "| 34|           0|            4|            45| <=50K|  0.0|\n",
            "| 25|           0|            9|            35| <=50K|  0.0|\n",
            "| 32|           0|            9|            40| <=50K|  0.0|\n",
            "| 38|           0|            7|            50| <=50K|  0.0|\n",
            "| 43|           0|           14|            45|  >50K|  1.0|\n",
            "+---+------------+-------------+--------------+------+-----+\n",
            "only showing top 20 rows\n",
            "\n"
          ],
          "name": "stdout"
        }
      ]
    },
    {
      "cell_type": "code",
      "metadata": {
        "id": "IdsjwoKSg_Mg"
      },
      "source": [
        "from pyspark.sql.types import *\n",
        "\n",
        "# Change column type\n",
        "data_converted = data_converted.withColumn(\"age\", data_converted[\"age\"].cast(IntegerType()))\n",
        "data_converted = data_converted.withColumn(\"capital-gain\", data_converted[\"capital-gain\"].cast(IntegerType()))\n",
        "data_converted = data_converted.withColumn(\"education-num\", data_converted[\"education-num\"].cast(IntegerType()))\n",
        "data_converted = data_converted.withColumn(\"hours-per-week\", data_converted[\"hours-per-week\"].cast(IntegerType()))\n"
      ],
      "execution_count": 15,
      "outputs": []
    },
    {
      "cell_type": "code",
      "metadata": {
        "id": "9QVYCvwmjyf-"
      },
      "source": [
        "\n",
        "# Create vector assembler for feature columns\n",
        "VAssembler = VectorAssembler(inputCols=data_converted.columns[:4], outputCol=\"features\")\n",
        "data_converted = VAssembler.transform(data_converted)"
      ],
      "execution_count": 17,
      "outputs": []
    },
    {
      "cell_type": "code",
      "metadata": {
        "colab": {
          "base_uri": "https://localhost:8080/"
        },
        "id": "I-kOY1yvkqxI",
        "outputId": "b2285240-b1b5-4ca0-e7d5-48f7d7571676"
      },
      "source": [
        "data_converted.show(10)"
      ],
      "execution_count": 18,
      "outputs": [
        {
          "output_type": "stream",
          "text": [
            "+---+------------+-------------+--------------+------+-----+--------------------+\n",
            "|age|capital-gain|education-num|hours-per-week|income|label|            features|\n",
            "+---+------------+-------------+--------------+------+-----+--------------------+\n",
            "| 39|        2174|           13|            40| <=50K|  0.0|[39.0,2174.0,13.0...|\n",
            "| 50|           0|           13|            13| <=50K|  0.0|[50.0,0.0,13.0,13.0]|\n",
            "| 38|           0|            9|            40| <=50K|  0.0| [38.0,0.0,9.0,40.0]|\n",
            "| 53|           0|            7|            40| <=50K|  0.0| [53.0,0.0,7.0,40.0]|\n",
            "| 28|           0|           13|            40| <=50K|  0.0|[28.0,0.0,13.0,40.0]|\n",
            "| 37|           0|           14|            40| <=50K|  0.0|[37.0,0.0,14.0,40.0]|\n",
            "| 49|           0|            5|            16| <=50K|  0.0| [49.0,0.0,5.0,16.0]|\n",
            "| 52|           0|            9|            45|  >50K|  1.0| [52.0,0.0,9.0,45.0]|\n",
            "| 31|       14084|           14|            50|  >50K|  1.0|[31.0,14084.0,14....|\n",
            "| 42|        5178|           13|            40|  >50K|  1.0|[42.0,5178.0,13.0...|\n",
            "+---+------------+-------------+--------------+------+-----+--------------------+\n",
            "only showing top 10 rows\n",
            "\n"
          ],
          "name": "stdout"
        }
      ]
    },
    {
      "cell_type": "code",
      "metadata": {
        "id": "5unF3OWsktL6"
      },
      "source": [
        "# Split the dataset into training and testing data sets\n",
        "x = data_converted.select(\"label\", \"features\")\n",
        "# Split the dataset into training and testing data sets\n",
        "X_train, x_test = x.randomSplit([0.7, 0.3])"
      ],
      "execution_count": 19,
      "outputs": []
    },
    {
      "cell_type": "code",
      "metadata": {
        "id": "05-I9Y9ulO4k"
      },
      "source": [
        ""
      ],
      "execution_count": null,
      "outputs": []
    },
    {
      "cell_type": "markdown",
      "metadata": {
        "id": "fl7u2FfUlQWT"
      },
      "source": [
        "# Naive Bayes"
      ]
    },
    {
      "cell_type": "code",
      "metadata": {
        "id": "FZgxjYlBlPkw"
      },
      "source": [
        "\n",
        "from pyspark.ml.classification import NaiveBayes\n",
        "nb1 = NaiveBayes()\n",
        "\n",
        "# train the model\n",
        "model1 = nb1.fit(X_train)"
      ],
      "execution_count": 20,
      "outputs": []
    },
    {
      "cell_type": "code",
      "metadata": {
        "colab": {
          "base_uri": "https://localhost:8080/"
        },
        "id": "A6EMMz4clPZs",
        "outputId": "a0276966-1e2b-40e8-868a-23595708deac"
      },
      "source": [
        "# select example rows to display.\n",
        "predictions = model1.transform(x_test)\n",
        "predictions.show(5)"
      ],
      "execution_count": 21,
      "outputs": [
        {
          "output_type": "stream",
          "text": [
            "+-----+-------------------+--------------------+--------------------+----------+\n",
            "|label|           features|       rawPrediction|         probability|prediction|\n",
            "+-----+-------------------+--------------------+--------------------+----------+\n",
            "|  0.0|[17.0,0.0,4.0,45.0]|[-125.35616342715...|[1.0,9.9608115215...|       0.0|\n",
            "|  0.0|[17.0,0.0,5.0,15.0]|[-74.640681407274...|[1.0,1.5075237380...|       0.0|\n",
            "|  0.0|[17.0,0.0,5.0,25.0]|[-92.611207198269...|[1.0,2.4944842373...|       0.0|\n",
            "|  0.0|[17.0,0.0,5.0,35.0]|[-110.58173298926...|[1.0,4.1275977641...|       0.0|\n",
            "|  0.0|[17.0,0.0,5.0,40.0]|[-119.56699588476...|[1.0,5.3095250096...|       0.0|\n",
            "+-----+-------------------+--------------------+--------------------+----------+\n",
            "only showing top 5 rows\n",
            "\n"
          ],
          "name": "stdout"
        }
      ]
    },
    {
      "cell_type": "code",
      "metadata": {
        "colab": {
          "base_uri": "https://localhost:8080/"
        },
        "id": "8eb-MJyAldva",
        "outputId": "bd1f073b-fe18-4a0d-c89a-22276927aedb"
      },
      "source": [
        "from pyspark.ml.evaluation import MulticlassClassificationEvaluator\n",
        "\n",
        "# compute accuracy on the test set\n",
        "evaluator = MulticlassClassificationEvaluator(labelCol=\"label\", predictionCol=\"prediction\",\n",
        "                                              metricName=\"accuracy\")\n",
        "accuracy = evaluator.evaluate(predictions)\n",
        "print(\"Test set accuracy = \" + str(accuracy))"
      ],
      "execution_count": 22,
      "outputs": [
        {
          "output_type": "stream",
          "text": [
            "Test set accuracy = 0.7765089722675367\n"
          ],
          "name": "stdout"
        }
      ]
    },
    {
      "cell_type": "markdown",
      "metadata": {
        "id": "TA0n3rvUlqTF"
      },
      "source": [
        "# Decision Tree"
      ]
    },
    {
      "cell_type": "code",
      "metadata": {
        "id": "2WabEeZZlnxE"
      },
      "source": [
        "from pyspark.ml.classification import DecisionTreeClassifier\n",
        "DecisionTreeModel = DecisionTreeClassifier()\n",
        "model2 = DecisionTreeModel.fit(x_test)"
      ],
      "execution_count": 23,
      "outputs": []
    },
    {
      "cell_type": "code",
      "metadata": {
        "id": "AXwNHeirlnLi"
      },
      "source": [
        "# Generate prediction from test dataset\n",
        "dt = model2.transform(x_test)"
      ],
      "execution_count": 24,
      "outputs": []
    },
    {
      "cell_type": "code",
      "metadata": {
        "colab": {
          "base_uri": "https://localhost:8080/"
        },
        "id": "3ooY7HZYpFWt",
        "outputId": "17f40c8c-9e2a-4e5c-fc48-b289f900e3a4"
      },
      "source": [
        "# Evuluate the accuracy of the model\n",
        "evaluator = MulticlassClassificationEvaluator()\n",
        "accuracy = evaluator.evaluate(dt)\n",
        "\n",
        "# Show model accuracy\n",
        "print(\"Accuracy:\", accuracy)"
      ],
      "execution_count": 25,
      "outputs": [
        {
          "output_type": "stream",
          "text": [
            "Accuracy: 0.8051962592361115\n"
          ],
          "name": "stdout"
        }
      ]
    },
    {
      "cell_type": "markdown",
      "metadata": {
        "id": "3_VeX51wpS-r"
      },
      "source": [
        "# Random Forest\n"
      ]
    },
    {
      "cell_type": "code",
      "metadata": {
        "id": "joiDIQXmpSWa"
      },
      "source": [
        "from pyspark.ml.classification import RandomForestClassifier\n",
        "\n",
        "# Using the training set for the model traning\n",
        "RandomForestModel = RandomForestClassifier()\n",
        "model3 = RandomForestModel.fit(x_test)"
      ],
      "execution_count": 26,
      "outputs": []
    },
    {
      "cell_type": "code",
      "metadata": {
        "id": "nPXs_QBWpYJN"
      },
      "source": [
        "# Generate prediction from test dataset\n",
        "RF = model3.transform(x_test)"
      ],
      "execution_count": 28,
      "outputs": []
    },
    {
      "cell_type": "code",
      "metadata": {
        "colab": {
          "base_uri": "https://localhost:8080/"
        },
        "id": "Q3XvgS4tpem5",
        "outputId": "e293fdb7-c850-45ee-fe97-f9646e7337f6"
      },
      "source": [
        "# Evuluate the accuracy of the model\n",
        "evaluator = MulticlassClassificationEvaluator()\n",
        "accuracy = evaluator.evaluate(RF)\n",
        "\n",
        "# Show model accuracy\n",
        "print(\"Accuracy:\", accuracy)"
      ],
      "execution_count": 29,
      "outputs": [
        {
          "output_type": "stream",
          "text": [
            "Accuracy: 0.8069629875824761\n"
          ],
          "name": "stdout"
        }
      ]
    }
  ]
}