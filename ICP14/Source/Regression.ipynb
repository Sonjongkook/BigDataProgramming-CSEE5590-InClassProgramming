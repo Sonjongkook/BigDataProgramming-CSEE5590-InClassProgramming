{
  "nbformat": 4,
  "nbformat_minor": 0,
  "metadata": {
    "colab": {
      "name": "Regression.ipynb",
      "provenance": []
    },
    "kernelspec": {
      "name": "python3",
      "display_name": "Python 3"
    },
    "language_info": {
      "name": "python"
    }
  },
  "cells": [
    {
      "cell_type": "code",
      "metadata": {
        "colab": {
          "base_uri": "https://localhost:8080/"
        },
        "id": "qyk_4SrIMgCw",
        "outputId": "2856bf6e-55e5-48d6-d5fd-2989613aeaf8"
      },
      "source": [
        "!pip install pyspark"
      ],
      "execution_count": 1,
      "outputs": [
        {
          "output_type": "stream",
          "text": [
            "Collecting pyspark\n",
            "\u001b[?25l  Downloading https://files.pythonhosted.org/packages/45/b0/9d6860891ab14a39d4bddf80ba26ce51c2f9dc4805e5c6978ac0472c120a/pyspark-3.1.1.tar.gz (212.3MB)\n",
            "\u001b[K     |████████████████████████████████| 212.3MB 68kB/s \n",
            "\u001b[?25hCollecting py4j==0.10.9\n",
            "\u001b[?25l  Downloading https://files.pythonhosted.org/packages/9e/b6/6a4fb90cd235dc8e265a6a2067f2a2c99f0d91787f06aca4bcf7c23f3f80/py4j-0.10.9-py2.py3-none-any.whl (198kB)\n",
            "\u001b[K     |████████████████████████████████| 204kB 42.7MB/s \n",
            "\u001b[?25hBuilding wheels for collected packages: pyspark\n",
            "  Building wheel for pyspark (setup.py) ... \u001b[?25l\u001b[?25hdone\n",
            "  Created wheel for pyspark: filename=pyspark-3.1.1-py2.py3-none-any.whl size=212767604 sha256=d153e8a716de8b006a764301dad0adbd531cf7880e1488aaad83319ce80bb902\n",
            "  Stored in directory: /root/.cache/pip/wheels/0b/90/c0/01de724414ef122bd05f056541fb6a0ecf47c7ca655f8b3c0f\n",
            "Successfully built pyspark\n",
            "Installing collected packages: py4j, pyspark\n",
            "Successfully installed py4j-0.10.9 pyspark-3.1.1\n"
          ],
          "name": "stdout"
        }
      ]
    },
    {
      "cell_type": "code",
      "metadata": {
        "id": "yCdXZwq-NzjJ"
      },
      "source": [
        "from pyspark.sql import SparkSession\n",
        "from pyspark.ml.regression import LinearRegression\n",
        "from pyspark.ml.evaluation import MulticlassClassificationEvaluator\n",
        "from pyspark.ml.feature import VectorAssembler\n",
        "from pyspark.mllib.evaluation import MulticlassMetrics\n",
        "from pyspark.sql.functions import col\n",
        "import numpy as np\n",
        "import os"
      ],
      "execution_count": 2,
      "outputs": []
    },
    {
      "cell_type": "code",
      "metadata": {
        "id": "W4uNArf-N3fU"
      },
      "source": [
        "os.environ[\"HADOOP_HOME\"] = \"C:/winutils\""
      ],
      "execution_count": 3,
      "outputs": []
    },
    {
      "cell_type": "code",
      "metadata": {
        "id": "3jEUffxnN5L3"
      },
      "source": [
        "# Creating spark session\n",
        "spark = SparkSession.builder.appName(\"ICP7\").getOrCreate()\n",
        "spark.sparkContext.setLogLevel(\"ERROR\")"
      ],
      "execution_count": 4,
      "outputs": []
    },
    {
      "cell_type": "code",
      "metadata": {
        "id": "jP8Oh6GBN88N"
      },
      "source": [
        "# Load data and select feature and label columns\n",
        "data = spark.read.format(\"csv\").option(\"header\", True).option(\"inferSchema\", True).option(\"delimiter\", \",\").load(\"/content/drive/MyDrive/imports-85.csv\")"
      ],
      "execution_count": 5,
      "outputs": []
    },
    {
      "cell_type": "code",
      "metadata": {
        "colab": {
          "base_uri": "https://localhost:8080/",
          "height": 827
        },
        "id": "ycPDV7DxOKmX",
        "outputId": "23e3b1aa-8916-4e65-d271-95067a349c4a"
      },
      "source": [
        "import pandas as pd\n",
        "pd.DataFrame(data.take(5), columns=data.columns).transpose()"
      ],
      "execution_count": 6,
      "outputs": [
        {
          "output_type": "execute_result",
          "data": {
            "text/html": [
              "<div>\n",
              "<style scoped>\n",
              "    .dataframe tbody tr th:only-of-type {\n",
              "        vertical-align: middle;\n",
              "    }\n",
              "\n",
              "    .dataframe tbody tr th {\n",
              "        vertical-align: top;\n",
              "    }\n",
              "\n",
              "    .dataframe thead th {\n",
              "        text-align: right;\n",
              "    }\n",
              "</style>\n",
              "<table border=\"1\" class=\"dataframe\">\n",
              "  <thead>\n",
              "    <tr style=\"text-align: right;\">\n",
              "      <th></th>\n",
              "      <th>0</th>\n",
              "      <th>1</th>\n",
              "      <th>2</th>\n",
              "      <th>3</th>\n",
              "      <th>4</th>\n",
              "    </tr>\n",
              "  </thead>\n",
              "  <tbody>\n",
              "    <tr>\n",
              "      <th>symboling</th>\n",
              "      <td>3</td>\n",
              "      <td>3</td>\n",
              "      <td>1</td>\n",
              "      <td>2</td>\n",
              "      <td>2</td>\n",
              "    </tr>\n",
              "    <tr>\n",
              "      <th>normalized-losses</th>\n",
              "      <td>?</td>\n",
              "      <td>?</td>\n",
              "      <td>?</td>\n",
              "      <td>164</td>\n",
              "      <td>164</td>\n",
              "    </tr>\n",
              "    <tr>\n",
              "      <th>make</th>\n",
              "      <td>alfa-romero</td>\n",
              "      <td>alfa-romero</td>\n",
              "      <td>alfa-romero</td>\n",
              "      <td>audi</td>\n",
              "      <td>audi</td>\n",
              "    </tr>\n",
              "    <tr>\n",
              "      <th>fuel-type</th>\n",
              "      <td>gas</td>\n",
              "      <td>gas</td>\n",
              "      <td>gas</td>\n",
              "      <td>gas</td>\n",
              "      <td>gas</td>\n",
              "    </tr>\n",
              "    <tr>\n",
              "      <th>aspiration</th>\n",
              "      <td>std</td>\n",
              "      <td>std</td>\n",
              "      <td>std</td>\n",
              "      <td>std</td>\n",
              "      <td>std</td>\n",
              "    </tr>\n",
              "    <tr>\n",
              "      <th>num-of-doors</th>\n",
              "      <td>two</td>\n",
              "      <td>two</td>\n",
              "      <td>two</td>\n",
              "      <td>four</td>\n",
              "      <td>four</td>\n",
              "    </tr>\n",
              "    <tr>\n",
              "      <th>body-style</th>\n",
              "      <td>convertible</td>\n",
              "      <td>convertible</td>\n",
              "      <td>hatchback</td>\n",
              "      <td>sedan</td>\n",
              "      <td>sedan</td>\n",
              "    </tr>\n",
              "    <tr>\n",
              "      <th>drive-wheels</th>\n",
              "      <td>rwd</td>\n",
              "      <td>rwd</td>\n",
              "      <td>rwd</td>\n",
              "      <td>fwd</td>\n",
              "      <td>4wd</td>\n",
              "    </tr>\n",
              "    <tr>\n",
              "      <th>engine-location</th>\n",
              "      <td>front</td>\n",
              "      <td>front</td>\n",
              "      <td>front</td>\n",
              "      <td>front</td>\n",
              "      <td>front</td>\n",
              "    </tr>\n",
              "    <tr>\n",
              "      <th>wheel-base</th>\n",
              "      <td>88.6</td>\n",
              "      <td>88.6</td>\n",
              "      <td>94.5</td>\n",
              "      <td>99.8</td>\n",
              "      <td>99.4</td>\n",
              "    </tr>\n",
              "    <tr>\n",
              "      <th>length</th>\n",
              "      <td>168.8</td>\n",
              "      <td>168.8</td>\n",
              "      <td>171.2</td>\n",
              "      <td>176.6</td>\n",
              "      <td>176.6</td>\n",
              "    </tr>\n",
              "    <tr>\n",
              "      <th>width</th>\n",
              "      <td>64.1</td>\n",
              "      <td>64.1</td>\n",
              "      <td>65.5</td>\n",
              "      <td>66.2</td>\n",
              "      <td>66.4</td>\n",
              "    </tr>\n",
              "    <tr>\n",
              "      <th>height</th>\n",
              "      <td>48.8</td>\n",
              "      <td>48.8</td>\n",
              "      <td>52.4</td>\n",
              "      <td>54.3</td>\n",
              "      <td>54.3</td>\n",
              "    </tr>\n",
              "    <tr>\n",
              "      <th>curb-weight</th>\n",
              "      <td>2548</td>\n",
              "      <td>2548</td>\n",
              "      <td>2823</td>\n",
              "      <td>2337</td>\n",
              "      <td>2824</td>\n",
              "    </tr>\n",
              "    <tr>\n",
              "      <th>engine-type</th>\n",
              "      <td>dohc</td>\n",
              "      <td>dohc</td>\n",
              "      <td>ohcv</td>\n",
              "      <td>ohc</td>\n",
              "      <td>ohc</td>\n",
              "    </tr>\n",
              "    <tr>\n",
              "      <th>num-of-cylinders</th>\n",
              "      <td>four</td>\n",
              "      <td>four</td>\n",
              "      <td>six</td>\n",
              "      <td>four</td>\n",
              "      <td>five</td>\n",
              "    </tr>\n",
              "    <tr>\n",
              "      <th>engine-size</th>\n",
              "      <td>130</td>\n",
              "      <td>130</td>\n",
              "      <td>152</td>\n",
              "      <td>109</td>\n",
              "      <td>136</td>\n",
              "    </tr>\n",
              "    <tr>\n",
              "      <th>fuel-system</th>\n",
              "      <td>mpfi</td>\n",
              "      <td>mpfi</td>\n",
              "      <td>mpfi</td>\n",
              "      <td>mpfi</td>\n",
              "      <td>mpfi</td>\n",
              "    </tr>\n",
              "    <tr>\n",
              "      <th>bore</th>\n",
              "      <td>3.47</td>\n",
              "      <td>3.47</td>\n",
              "      <td>2.68</td>\n",
              "      <td>3.19</td>\n",
              "      <td>3.19</td>\n",
              "    </tr>\n",
              "    <tr>\n",
              "      <th>stroke</th>\n",
              "      <td>2.68</td>\n",
              "      <td>2.68</td>\n",
              "      <td>3.47</td>\n",
              "      <td>3.4</td>\n",
              "      <td>3.4</td>\n",
              "    </tr>\n",
              "    <tr>\n",
              "      <th>compression-ratio</th>\n",
              "      <td>9</td>\n",
              "      <td>9</td>\n",
              "      <td>9</td>\n",
              "      <td>10</td>\n",
              "      <td>8</td>\n",
              "    </tr>\n",
              "    <tr>\n",
              "      <th>horsepower</th>\n",
              "      <td>111</td>\n",
              "      <td>111</td>\n",
              "      <td>154</td>\n",
              "      <td>102</td>\n",
              "      <td>115</td>\n",
              "    </tr>\n",
              "    <tr>\n",
              "      <th>peak-rpm</th>\n",
              "      <td>5000</td>\n",
              "      <td>5000</td>\n",
              "      <td>5000</td>\n",
              "      <td>5500</td>\n",
              "      <td>5500</td>\n",
              "    </tr>\n",
              "    <tr>\n",
              "      <th>city-mpg</th>\n",
              "      <td>21</td>\n",
              "      <td>21</td>\n",
              "      <td>19</td>\n",
              "      <td>24</td>\n",
              "      <td>18</td>\n",
              "    </tr>\n",
              "    <tr>\n",
              "      <th>highway-mpg</th>\n",
              "      <td>27</td>\n",
              "      <td>27</td>\n",
              "      <td>26</td>\n",
              "      <td>30</td>\n",
              "      <td>22</td>\n",
              "    </tr>\n",
              "    <tr>\n",
              "      <th>price</th>\n",
              "      <td>13495</td>\n",
              "      <td>16500</td>\n",
              "      <td>16500</td>\n",
              "      <td>13950</td>\n",
              "      <td>17450</td>\n",
              "    </tr>\n",
              "  </tbody>\n",
              "</table>\n",
              "</div>"
            ],
            "text/plain": [
              "                             0            1            2      3      4\n",
              "symboling                    3            3            1      2      2\n",
              "normalized-losses            ?            ?            ?    164    164\n",
              "make               alfa-romero  alfa-romero  alfa-romero   audi   audi\n",
              "fuel-type                  gas          gas          gas    gas    gas\n",
              "aspiration                 std          std          std    std    std\n",
              "num-of-doors               two          two          two   four   four\n",
              "body-style         convertible  convertible    hatchback  sedan  sedan\n",
              "drive-wheels               rwd          rwd          rwd    fwd    4wd\n",
              "engine-location          front        front        front  front  front\n",
              "wheel-base                88.6         88.6         94.5   99.8   99.4\n",
              "length                   168.8        168.8        171.2  176.6  176.6\n",
              "width                     64.1         64.1         65.5   66.2   66.4\n",
              "height                    48.8         48.8         52.4   54.3   54.3\n",
              "curb-weight               2548         2548         2823   2337   2824\n",
              "engine-type               dohc         dohc         ohcv    ohc    ohc\n",
              "num-of-cylinders          four         four          six   four   five\n",
              "engine-size                130          130          152    109    136\n",
              "fuel-system               mpfi         mpfi         mpfi   mpfi   mpfi\n",
              "bore                      3.47         3.47         2.68   3.19   3.19\n",
              "stroke                    2.68         2.68         3.47    3.4    3.4\n",
              "compression-ratio            9            9            9     10      8\n",
              "horsepower                 111          111          154    102    115\n",
              "peak-rpm                  5000         5000         5000   5500   5500\n",
              "city-mpg                    21           21           19     24     18\n",
              "highway-mpg                 27           27           26     30     22\n",
              "price                    13495        16500        16500  13950  17450"
            ]
          },
          "metadata": {
            "tags": []
          },
          "execution_count": 6
        }
      ]
    },
    {
      "cell_type": "code",
      "metadata": {
        "id": "Zj4J9nutOKkG"
      },
      "source": [
        "from pyspark.sql.types import *\n",
        "data = data.withColumnRenamed(\"wheel-base\", \"label\").select(\"length\", \"width\", \"height\",\"label\")\n",
        "data = data.withColumn(\"label\", data[\"label\"].cast(IntegerType()))"
      ],
      "execution_count": 8,
      "outputs": []
    },
    {
      "cell_type": "code",
      "metadata": {
        "colab": {
          "base_uri": "https://localhost:8080/",
          "height": 167
        },
        "id": "X83ZKK2ZOKhp",
        "outputId": "8da6a0dc-f564-4732-81b6-85b1f9fc94a9"
      },
      "source": [
        "import pandas as pd\n",
        "pd.DataFrame(data.take(5), columns=data.columns).transpose()\n"
      ],
      "execution_count": 9,
      "outputs": [
        {
          "output_type": "execute_result",
          "data": {
            "text/html": [
              "<div>\n",
              "<style scoped>\n",
              "    .dataframe tbody tr th:only-of-type {\n",
              "        vertical-align: middle;\n",
              "    }\n",
              "\n",
              "    .dataframe tbody tr th {\n",
              "        vertical-align: top;\n",
              "    }\n",
              "\n",
              "    .dataframe thead th {\n",
              "        text-align: right;\n",
              "    }\n",
              "</style>\n",
              "<table border=\"1\" class=\"dataframe\">\n",
              "  <thead>\n",
              "    <tr style=\"text-align: right;\">\n",
              "      <th></th>\n",
              "      <th>0</th>\n",
              "      <th>1</th>\n",
              "      <th>2</th>\n",
              "      <th>3</th>\n",
              "      <th>4</th>\n",
              "    </tr>\n",
              "  </thead>\n",
              "  <tbody>\n",
              "    <tr>\n",
              "      <th>length</th>\n",
              "      <td>168.8</td>\n",
              "      <td>168.8</td>\n",
              "      <td>171.2</td>\n",
              "      <td>176.6</td>\n",
              "      <td>176.6</td>\n",
              "    </tr>\n",
              "    <tr>\n",
              "      <th>width</th>\n",
              "      <td>64.1</td>\n",
              "      <td>64.1</td>\n",
              "      <td>65.5</td>\n",
              "      <td>66.2</td>\n",
              "      <td>66.4</td>\n",
              "    </tr>\n",
              "    <tr>\n",
              "      <th>height</th>\n",
              "      <td>48.8</td>\n",
              "      <td>48.8</td>\n",
              "      <td>52.4</td>\n",
              "      <td>54.3</td>\n",
              "      <td>54.3</td>\n",
              "    </tr>\n",
              "    <tr>\n",
              "      <th>label</th>\n",
              "      <td>88.0</td>\n",
              "      <td>88.0</td>\n",
              "      <td>94.0</td>\n",
              "      <td>99.0</td>\n",
              "      <td>99.0</td>\n",
              "    </tr>\n",
              "  </tbody>\n",
              "</table>\n",
              "</div>"
            ],
            "text/plain": [
              "            0      1      2      3      4\n",
              "length  168.8  168.8  171.2  176.6  176.6\n",
              "width    64.1   64.1   65.5   66.2   66.4\n",
              "height   48.8   48.8   52.4   54.3   54.3\n",
              "label    88.0   88.0   94.0   99.0   99.0"
            ]
          },
          "metadata": {
            "tags": []
          },
          "execution_count": 9
        }
      ]
    },
    {
      "cell_type": "code",
      "metadata": {
        "id": "GWoBA29BOKeu"
      },
      "source": [
        "# Create vector assembler for feature columns\n",
        "assembler = VectorAssembler(inputCols=data.columns[:2], outputCol=\"features\")\n",
        "data = assembler.transform(data)"
      ],
      "execution_count": 10,
      "outputs": []
    },
    {
      "cell_type": "code",
      "metadata": {
        "id": "9ev_z0saQBdp"
      },
      "source": [
        "data = data.select(\"label\", \"features\")\n"
      ],
      "execution_count": 11,
      "outputs": []
    },
    {
      "cell_type": "markdown",
      "metadata": {
        "id": "1ysdAw1cT8Mr"
      },
      "source": [
        "# Linear Regression"
      ]
    },
    {
      "cell_type": "code",
      "metadata": {
        "id": "mBo40xZ3QNHy"
      },
      "source": [
        "from pyspark.ml.regression import LinearRegression\n",
        "model1 = LinearRegression(maxIter=10, regParam=0.3, elasticNetParam=0.8)"
      ],
      "execution_count": 12,
      "outputs": []
    },
    {
      "cell_type": "code",
      "metadata": {
        "id": "xgnpCVBcQNFp"
      },
      "source": [
        "# Fit the model\n",
        "model = model1.fit(data)"
      ],
      "execution_count": 14,
      "outputs": []
    },
    {
      "cell_type": "code",
      "metadata": {
        "colab": {
          "base_uri": "https://localhost:8080/"
        },
        "id": "02mkGeqwQZV3",
        "outputId": "0ad717f2-9003-4c3b-a9e1-fb902ce671ac"
      },
      "source": [
        "# Print the coefficients and intercept for linear regression\n",
        "print(\"Coefficients: %s\" % str(model.coefficients))\n",
        "print(\"Intercept: %s\" % str(model.intercept))\n"
      ],
      "execution_count": 15,
      "outputs": [
        {
          "output_type": "stream",
          "text": [
            "Coefficients: [0.3337891635819007,0.5150505011624908]\n",
            "Intercept: 6.2559533571945725\n"
          ],
          "name": "stdout"
        }
      ]
    },
    {
      "cell_type": "code",
      "metadata": {
        "colab": {
          "base_uri": "https://localhost:8080/"
        },
        "id": "5z25rmAJQNDB",
        "outputId": "9893ae8c-d152-4129-e558-8339ab2dfcb6"
      },
      "source": [
        "# Summarize the model over the training set and print out some metrics\n",
        "trainingSummary = model.summary\n",
        "print(\"numIterations: %d\" % trainingSummary.totalIterations)\n",
        "print(\"objectiveHistory: %s\" % str(trainingSummary.objectiveHistory))\n",
        "trainingSummary.residuals.show()\n",
        "print(\"RMSE: %f\" % trainingSummary.rootMeanSquaredError)\n",
        "print(\"r2: %f\" % trainingSummary.r2)"
      ],
      "execution_count": 16,
      "outputs": [
        {
          "output_type": "stream",
          "text": [
            "numIterations: 6\n",
            "objectiveHistory: [0.5, 0.39634946019346834, 0.1536353728360829, 0.15116447772451408, 0.14653853943833373, 0.14653853141273573, 0.14653853141271792]\n",
            "+--------------------+\n",
            "|           residuals|\n",
            "+--------------------+\n",
            "|  -7.614301294335078|\n",
            "|  -7.614301294335078|\n",
            "| -3.1364659885591237|\n",
            "|-0.29946282271511393|\n",
            "| -0.4024729229476236|\n",
            "| -0.5846202873387085|\n",
            "| -2.3517309624286753|\n",
            "| -2.3517309624286753|\n",
            "| -2.3517309624286753|\n",
            "| -1.7091113364223958|\n",
            "|  2.3548500461959776|\n",
            "|  2.3548500461959776|\n",
            "|  2.3548500461959776|\n",
            "|  2.3548500461959776|\n",
            "| -0.7989838019444448|\n",
            "| -0.7989838019444448|\n",
            "| -2.9162222883000624|\n",
            "|   1.470500884750379|\n",
            "|   3.588850441301048|\n",
            "|   2.949104166452699|\n",
            "+--------------------+\n",
            "only showing top 20 rows\n",
            "\n",
            "RMSE: 2.837581\n",
            "r2: 0.780117\n"
          ],
          "name": "stdout"
        }
      ]
    },
    {
      "cell_type": "code",
      "metadata": {
        "id": "NjlTdhaxQM-U"
      },
      "source": [
        ""
      ],
      "execution_count": null,
      "outputs": []
    },
    {
      "cell_type": "markdown",
      "metadata": {
        "id": "PvuF-60DSFub"
      },
      "source": [
        "# Logistic Regression"
      ]
    },
    {
      "cell_type": "code",
      "metadata": {
        "id": "n0Tlu7sSSFfR"
      },
      "source": [
        "# Load data and select feature and label columns\n",
        "data = spark.read.format(\"csv\").option(\"header\", True).option(\"inferSchema\", True).option(\"delimiter\", \",\").load(\"/content/drive/MyDrive/imports-85.csv\")"
      ],
      "execution_count": 17,
      "outputs": []
    },
    {
      "cell_type": "code",
      "metadata": {
        "colab": {
          "base_uri": "https://localhost:8080/",
          "height": 827
        },
        "id": "Dm4zP3L2SIaX",
        "outputId": "d054cf48-3906-42ed-8d73-f95b89a723ec"
      },
      "source": [
        "import pandas as pd\n",
        "pd.DataFrame(data.take(5), columns=data.columns).transpose()"
      ],
      "execution_count": 19,
      "outputs": [
        {
          "output_type": "execute_result",
          "data": {
            "text/html": [
              "<div>\n",
              "<style scoped>\n",
              "    .dataframe tbody tr th:only-of-type {\n",
              "        vertical-align: middle;\n",
              "    }\n",
              "\n",
              "    .dataframe tbody tr th {\n",
              "        vertical-align: top;\n",
              "    }\n",
              "\n",
              "    .dataframe thead th {\n",
              "        text-align: right;\n",
              "    }\n",
              "</style>\n",
              "<table border=\"1\" class=\"dataframe\">\n",
              "  <thead>\n",
              "    <tr style=\"text-align: right;\">\n",
              "      <th></th>\n",
              "      <th>0</th>\n",
              "      <th>1</th>\n",
              "      <th>2</th>\n",
              "      <th>3</th>\n",
              "      <th>4</th>\n",
              "    </tr>\n",
              "  </thead>\n",
              "  <tbody>\n",
              "    <tr>\n",
              "      <th>symboling</th>\n",
              "      <td>3</td>\n",
              "      <td>3</td>\n",
              "      <td>1</td>\n",
              "      <td>2</td>\n",
              "      <td>2</td>\n",
              "    </tr>\n",
              "    <tr>\n",
              "      <th>normalized-losses</th>\n",
              "      <td>?</td>\n",
              "      <td>?</td>\n",
              "      <td>?</td>\n",
              "      <td>164</td>\n",
              "      <td>164</td>\n",
              "    </tr>\n",
              "    <tr>\n",
              "      <th>make</th>\n",
              "      <td>alfa-romero</td>\n",
              "      <td>alfa-romero</td>\n",
              "      <td>alfa-romero</td>\n",
              "      <td>audi</td>\n",
              "      <td>audi</td>\n",
              "    </tr>\n",
              "    <tr>\n",
              "      <th>fuel-type</th>\n",
              "      <td>gas</td>\n",
              "      <td>gas</td>\n",
              "      <td>gas</td>\n",
              "      <td>gas</td>\n",
              "      <td>gas</td>\n",
              "    </tr>\n",
              "    <tr>\n",
              "      <th>aspiration</th>\n",
              "      <td>std</td>\n",
              "      <td>std</td>\n",
              "      <td>std</td>\n",
              "      <td>std</td>\n",
              "      <td>std</td>\n",
              "    </tr>\n",
              "    <tr>\n",
              "      <th>num-of-doors</th>\n",
              "      <td>two</td>\n",
              "      <td>two</td>\n",
              "      <td>two</td>\n",
              "      <td>four</td>\n",
              "      <td>four</td>\n",
              "    </tr>\n",
              "    <tr>\n",
              "      <th>body-style</th>\n",
              "      <td>convertible</td>\n",
              "      <td>convertible</td>\n",
              "      <td>hatchback</td>\n",
              "      <td>sedan</td>\n",
              "      <td>sedan</td>\n",
              "    </tr>\n",
              "    <tr>\n",
              "      <th>drive-wheels</th>\n",
              "      <td>rwd</td>\n",
              "      <td>rwd</td>\n",
              "      <td>rwd</td>\n",
              "      <td>fwd</td>\n",
              "      <td>4wd</td>\n",
              "    </tr>\n",
              "    <tr>\n",
              "      <th>engine-location</th>\n",
              "      <td>front</td>\n",
              "      <td>front</td>\n",
              "      <td>front</td>\n",
              "      <td>front</td>\n",
              "      <td>front</td>\n",
              "    </tr>\n",
              "    <tr>\n",
              "      <th>wheel-base</th>\n",
              "      <td>88.6</td>\n",
              "      <td>88.6</td>\n",
              "      <td>94.5</td>\n",
              "      <td>99.8</td>\n",
              "      <td>99.4</td>\n",
              "    </tr>\n",
              "    <tr>\n",
              "      <th>length</th>\n",
              "      <td>168.8</td>\n",
              "      <td>168.8</td>\n",
              "      <td>171.2</td>\n",
              "      <td>176.6</td>\n",
              "      <td>176.6</td>\n",
              "    </tr>\n",
              "    <tr>\n",
              "      <th>width</th>\n",
              "      <td>64.1</td>\n",
              "      <td>64.1</td>\n",
              "      <td>65.5</td>\n",
              "      <td>66.2</td>\n",
              "      <td>66.4</td>\n",
              "    </tr>\n",
              "    <tr>\n",
              "      <th>height</th>\n",
              "      <td>48.8</td>\n",
              "      <td>48.8</td>\n",
              "      <td>52.4</td>\n",
              "      <td>54.3</td>\n",
              "      <td>54.3</td>\n",
              "    </tr>\n",
              "    <tr>\n",
              "      <th>curb-weight</th>\n",
              "      <td>2548</td>\n",
              "      <td>2548</td>\n",
              "      <td>2823</td>\n",
              "      <td>2337</td>\n",
              "      <td>2824</td>\n",
              "    </tr>\n",
              "    <tr>\n",
              "      <th>engine-type</th>\n",
              "      <td>dohc</td>\n",
              "      <td>dohc</td>\n",
              "      <td>ohcv</td>\n",
              "      <td>ohc</td>\n",
              "      <td>ohc</td>\n",
              "    </tr>\n",
              "    <tr>\n",
              "      <th>num-of-cylinders</th>\n",
              "      <td>four</td>\n",
              "      <td>four</td>\n",
              "      <td>six</td>\n",
              "      <td>four</td>\n",
              "      <td>five</td>\n",
              "    </tr>\n",
              "    <tr>\n",
              "      <th>engine-size</th>\n",
              "      <td>130</td>\n",
              "      <td>130</td>\n",
              "      <td>152</td>\n",
              "      <td>109</td>\n",
              "      <td>136</td>\n",
              "    </tr>\n",
              "    <tr>\n",
              "      <th>fuel-system</th>\n",
              "      <td>mpfi</td>\n",
              "      <td>mpfi</td>\n",
              "      <td>mpfi</td>\n",
              "      <td>mpfi</td>\n",
              "      <td>mpfi</td>\n",
              "    </tr>\n",
              "    <tr>\n",
              "      <th>bore</th>\n",
              "      <td>3.47</td>\n",
              "      <td>3.47</td>\n",
              "      <td>2.68</td>\n",
              "      <td>3.19</td>\n",
              "      <td>3.19</td>\n",
              "    </tr>\n",
              "    <tr>\n",
              "      <th>stroke</th>\n",
              "      <td>2.68</td>\n",
              "      <td>2.68</td>\n",
              "      <td>3.47</td>\n",
              "      <td>3.4</td>\n",
              "      <td>3.4</td>\n",
              "    </tr>\n",
              "    <tr>\n",
              "      <th>compression-ratio</th>\n",
              "      <td>9</td>\n",
              "      <td>9</td>\n",
              "      <td>9</td>\n",
              "      <td>10</td>\n",
              "      <td>8</td>\n",
              "    </tr>\n",
              "    <tr>\n",
              "      <th>horsepower</th>\n",
              "      <td>111</td>\n",
              "      <td>111</td>\n",
              "      <td>154</td>\n",
              "      <td>102</td>\n",
              "      <td>115</td>\n",
              "    </tr>\n",
              "    <tr>\n",
              "      <th>peak-rpm</th>\n",
              "      <td>5000</td>\n",
              "      <td>5000</td>\n",
              "      <td>5000</td>\n",
              "      <td>5500</td>\n",
              "      <td>5500</td>\n",
              "    </tr>\n",
              "    <tr>\n",
              "      <th>city-mpg</th>\n",
              "      <td>21</td>\n",
              "      <td>21</td>\n",
              "      <td>19</td>\n",
              "      <td>24</td>\n",
              "      <td>18</td>\n",
              "    </tr>\n",
              "    <tr>\n",
              "      <th>highway-mpg</th>\n",
              "      <td>27</td>\n",
              "      <td>27</td>\n",
              "      <td>26</td>\n",
              "      <td>30</td>\n",
              "      <td>22</td>\n",
              "    </tr>\n",
              "    <tr>\n",
              "      <th>price</th>\n",
              "      <td>13495</td>\n",
              "      <td>16500</td>\n",
              "      <td>16500</td>\n",
              "      <td>13950</td>\n",
              "      <td>17450</td>\n",
              "    </tr>\n",
              "  </tbody>\n",
              "</table>\n",
              "</div>"
            ],
            "text/plain": [
              "                             0            1            2      3      4\n",
              "symboling                    3            3            1      2      2\n",
              "normalized-losses            ?            ?            ?    164    164\n",
              "make               alfa-romero  alfa-romero  alfa-romero   audi   audi\n",
              "fuel-type                  gas          gas          gas    gas    gas\n",
              "aspiration                 std          std          std    std    std\n",
              "num-of-doors               two          two          two   four   four\n",
              "body-style         convertible  convertible    hatchback  sedan  sedan\n",
              "drive-wheels               rwd          rwd          rwd    fwd    4wd\n",
              "engine-location          front        front        front  front  front\n",
              "wheel-base                88.6         88.6         94.5   99.8   99.4\n",
              "length                   168.8        168.8        171.2  176.6  176.6\n",
              "width                     64.1         64.1         65.5   66.2   66.4\n",
              "height                    48.8         48.8         52.4   54.3   54.3\n",
              "curb-weight               2548         2548         2823   2337   2824\n",
              "engine-type               dohc         dohc         ohcv    ohc    ohc\n",
              "num-of-cylinders          four         four          six   four   five\n",
              "engine-size                130          130          152    109    136\n",
              "fuel-system               mpfi         mpfi         mpfi   mpfi   mpfi\n",
              "bore                      3.47         3.47         2.68   3.19   3.19\n",
              "stroke                    2.68         2.68         3.47    3.4    3.4\n",
              "compression-ratio            9            9            9     10      8\n",
              "horsepower                 111          111          154    102    115\n",
              "peak-rpm                  5000         5000         5000   5500   5500\n",
              "city-mpg                    21           21           19     24     18\n",
              "highway-mpg                 27           27           26     30     22\n",
              "price                    13495        16500        16500  13950  17450"
            ]
          },
          "metadata": {
            "tags": []
          },
          "execution_count": 19
        }
      ]
    },
    {
      "cell_type": "code",
      "metadata": {
        "id": "ER2qBj0GSRhx"
      },
      "source": [
        "from pyspark.sql.functions import col, when\n",
        "\n",
        "data = data.withColumn(\"label\", when(col(\"num-of-doors\") == \"four\", 1).otherwise(0)).select(\"length\", \"width\", \"height\",\"label\")"
      ],
      "execution_count": 20,
      "outputs": []
    },
    {
      "cell_type": "code",
      "metadata": {
        "colab": {
          "base_uri": "https://localhost:8080/",
          "height": 167
        },
        "id": "gP6KywVbSW8x",
        "outputId": "247059f9-6a53-487c-f4a0-9f949906fcf4"
      },
      "source": [
        "import pandas as pd\n",
        "pd.DataFrame(data.take(5), columns=data.columns).transpose()"
      ],
      "execution_count": 21,
      "outputs": [
        {
          "output_type": "execute_result",
          "data": {
            "text/html": [
              "<div>\n",
              "<style scoped>\n",
              "    .dataframe tbody tr th:only-of-type {\n",
              "        vertical-align: middle;\n",
              "    }\n",
              "\n",
              "    .dataframe tbody tr th {\n",
              "        vertical-align: top;\n",
              "    }\n",
              "\n",
              "    .dataframe thead th {\n",
              "        text-align: right;\n",
              "    }\n",
              "</style>\n",
              "<table border=\"1\" class=\"dataframe\">\n",
              "  <thead>\n",
              "    <tr style=\"text-align: right;\">\n",
              "      <th></th>\n",
              "      <th>0</th>\n",
              "      <th>1</th>\n",
              "      <th>2</th>\n",
              "      <th>3</th>\n",
              "      <th>4</th>\n",
              "    </tr>\n",
              "  </thead>\n",
              "  <tbody>\n",
              "    <tr>\n",
              "      <th>length</th>\n",
              "      <td>168.8</td>\n",
              "      <td>168.8</td>\n",
              "      <td>171.2</td>\n",
              "      <td>176.6</td>\n",
              "      <td>176.6</td>\n",
              "    </tr>\n",
              "    <tr>\n",
              "      <th>width</th>\n",
              "      <td>64.1</td>\n",
              "      <td>64.1</td>\n",
              "      <td>65.5</td>\n",
              "      <td>66.2</td>\n",
              "      <td>66.4</td>\n",
              "    </tr>\n",
              "    <tr>\n",
              "      <th>height</th>\n",
              "      <td>48.8</td>\n",
              "      <td>48.8</td>\n",
              "      <td>52.4</td>\n",
              "      <td>54.3</td>\n",
              "      <td>54.3</td>\n",
              "    </tr>\n",
              "    <tr>\n",
              "      <th>label</th>\n",
              "      <td>0.0</td>\n",
              "      <td>0.0</td>\n",
              "      <td>0.0</td>\n",
              "      <td>1.0</td>\n",
              "      <td>1.0</td>\n",
              "    </tr>\n",
              "  </tbody>\n",
              "</table>\n",
              "</div>"
            ],
            "text/plain": [
              "            0      1      2      3      4\n",
              "length  168.8  168.8  171.2  176.6  176.6\n",
              "width    64.1   64.1   65.5   66.2   66.4\n",
              "height   48.8   48.8   52.4   54.3   54.3\n",
              "label     0.0    0.0    0.0    1.0    1.0"
            ]
          },
          "metadata": {
            "tags": []
          },
          "execution_count": 21
        }
      ]
    },
    {
      "cell_type": "code",
      "metadata": {
        "id": "96WLNnkYSdQ6"
      },
      "source": [
        "# Create vector assembler for feature columns\n",
        "assembler = VectorAssembler(inputCols=data.columns[:2], outputCol=\"features\")\n",
        "data = assembler.transform(data)"
      ],
      "execution_count": 22,
      "outputs": []
    },
    {
      "cell_type": "code",
      "metadata": {
        "id": "hzn0-QKcSjpp"
      },
      "source": [
        "data = data.select(\"label\", \"features\")"
      ],
      "execution_count": 23,
      "outputs": []
    },
    {
      "cell_type": "code",
      "metadata": {
        "id": "nhW1cBa2Sm2m"
      },
      "source": [
        "from pyspark.ml.classification import LogisticRegression\n",
        "model1 = LogisticRegression(maxIter=10, regParam=0.3, elasticNetParam=0.8)"
      ],
      "execution_count": 24,
      "outputs": []
    },
    {
      "cell_type": "code",
      "metadata": {
        "id": "yFgpI1sqSm0G"
      },
      "source": [
        "# Fit the model\n",
        "model = model1.fit(data)"
      ],
      "execution_count": 25,
      "outputs": []
    },
    {
      "cell_type": "code",
      "metadata": {
        "colab": {
          "base_uri": "https://localhost:8080/"
        },
        "id": "BSUe4dxLSmkI",
        "outputId": "f5bcf4f3-727f-4742-efe2-9ec28b206b91"
      },
      "source": [
        "# Print the coefficients and intercept for linear regression\n",
        "print(\"Coefficients: %s\" % str(model.coefficients))\n",
        "print(\"Intercept: %s\" % str(model.intercept))"
      ],
      "execution_count": 26,
      "outputs": [
        {
          "output_type": "stream",
          "text": [
            "Coefficients: [0.0,0.0]\n",
            "Intercept: 0.22533894187764542\n"
          ],
          "name": "stdout"
        }
      ]
    },
    {
      "cell_type": "code",
      "metadata": {
        "id": "y4OW0lsZSy-H"
      },
      "source": [
        "# Summarize the model over the training set and print out some metrics\n",
        "trainingSummary = model.summary"
      ],
      "execution_count": 30,
      "outputs": []
    }
  ]
}