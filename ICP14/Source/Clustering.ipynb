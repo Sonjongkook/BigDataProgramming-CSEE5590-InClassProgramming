{
  "nbformat": 4,
  "nbformat_minor": 0,
  "metadata": {
    "colab": {
      "name": "Clustering.ipynb",
      "provenance": []
    },
    "kernelspec": {
      "name": "python3",
      "display_name": "Python 3"
    },
    "language_info": {
      "name": "python"
    }
  },
  "cells": [
    {
      "cell_type": "code",
      "metadata": {
        "colab": {
          "base_uri": "https://localhost:8080/"
        },
        "id": "HzpHMIWeFQuR",
        "outputId": "fd64c283-700a-4faf-f6e4-75cae1e3980e"
      },
      "source": [
        "!pip install pyspark"
      ],
      "execution_count": 1,
      "outputs": [
        {
          "output_type": "stream",
          "text": [
            "Collecting pyspark\n",
            "\u001b[?25l  Downloading https://files.pythonhosted.org/packages/45/b0/9d6860891ab14a39d4bddf80ba26ce51c2f9dc4805e5c6978ac0472c120a/pyspark-3.1.1.tar.gz (212.3MB)\n",
            "\u001b[K     |████████████████████████████████| 212.3MB 67kB/s \n",
            "\u001b[?25hCollecting py4j==0.10.9\n",
            "\u001b[?25l  Downloading https://files.pythonhosted.org/packages/9e/b6/6a4fb90cd235dc8e265a6a2067f2a2c99f0d91787f06aca4bcf7c23f3f80/py4j-0.10.9-py2.py3-none-any.whl (198kB)\n",
            "\u001b[K     |████████████████████████████████| 204kB 41.1MB/s \n",
            "\u001b[?25hBuilding wheels for collected packages: pyspark\n",
            "  Building wheel for pyspark (setup.py) ... \u001b[?25l\u001b[?25hdone\n",
            "  Created wheel for pyspark: filename=pyspark-3.1.1-py2.py3-none-any.whl size=212767604 sha256=ce7465939119dc1bdcb59c523bfb088263236b58d0d7b9ed35dae354ce7df018\n",
            "  Stored in directory: /root/.cache/pip/wheels/0b/90/c0/01de724414ef122bd05f056541fb6a0ecf47c7ca655f8b3c0f\n",
            "Successfully built pyspark\n",
            "Installing collected packages: py4j, pyspark\n",
            "Successfully installed py4j-0.10.9 pyspark-3.1.1\n"
          ],
          "name": "stdout"
        }
      ]
    },
    {
      "cell_type": "code",
      "metadata": {
        "id": "c6Qy_4JxCSXs"
      },
      "source": [
        "from pyspark.sql import SparkSession\n",
        "from pyspark.ml.clustering import KMeans\n",
        "from pyspark.ml.evaluation import MulticlassClassificationEvaluator\n",
        "from pyspark.ml.feature import VectorAssembler\n",
        "from pyspark.mllib.evaluation import MulticlassMetrics\n",
        "from pyspark.sql.functions import col\n",
        "import numpy as np\n",
        "import os"
      ],
      "execution_count": 2,
      "outputs": []
    },
    {
      "cell_type": "code",
      "metadata": {
        "id": "XEAfH2JTEyaH"
      },
      "source": [
        "os.environ[\"HADOOP_HOME\"] = \"C:/winutils\""
      ],
      "execution_count": 3,
      "outputs": []
    },
    {
      "cell_type": "code",
      "metadata": {
        "id": "1VJJTMbyEzVK"
      },
      "source": [
        "# Creating spark session\n",
        "spark = SparkSession.builder.appName(\"ICP7\").getOrCreate()\n",
        "spark.sparkContext.setLogLevel(\"ERROR\")"
      ],
      "execution_count": 4,
      "outputs": []
    },
    {
      "cell_type": "code",
      "metadata": {
        "colab": {
          "base_uri": "https://localhost:8080/"
        },
        "id": "D71PwLkFFYRT",
        "outputId": "7b685530-1ccd-49f6-a71c-20c276423dd7"
      },
      "source": [
        "data = spark.read.format(\"csv\").option(\"header\", True).option(\"inferSchema\", True).option(\"delimiter\", \",\").load(\"/content/drive/MyDrive/diabetic_data.csv\")\n",
        "data.show(5)"
      ],
      "execution_count": 5,
      "outputs": [
        {
          "output_type": "stream",
          "text": [
            "+------------+-----------+---------------+------+-------+------+-----------------+------------------------+-------------------+----------------+----------+--------------------+------------------+--------------+---------------+-----------------+----------------+----------------+------+------+------+----------------+-------------+---------+---------+-----------+-----------+--------------+-----------+-------------+---------+---------+-----------+------------+-------------+--------+--------+------------+----------+-------+-----------+-------+-------------------+-------------------+------------------------+-----------------------+----------------------+------+-----------+----------+\n",
            "|encounter_id|patient_nbr|           race|gender|    age|weight|admission_type_id|discharge_disposition_id|admission_source_id|time_in_hospital|payer_code|   medical_specialty|num_lab_procedures|num_procedures|num_medications|number_outpatient|number_emergency|number_inpatient|diag_1|diag_2|diag_3|number_diagnoses|max_glu_serum|A1Cresult|metformin|repaglinide|nateglinide|chlorpropamide|glimepiride|acetohexamide|glipizide|glyburide|tolbutamide|pioglitazone|rosiglitazone|acarbose|miglitol|troglitazone|tolazamide|examide|citoglipton|insulin|glyburide-metformin|glipizide-metformin|glimepiride-pioglitazone|metformin-rosiglitazone|metformin-pioglitazone|change|diabetesMed|readmitted|\n",
            "+------------+-----------+---------------+------+-------+------+-----------------+------------------------+-------------------+----------------+----------+--------------------+------------------+--------------+---------------+-----------------+----------------+----------------+------+------+------+----------------+-------------+---------+---------+-----------+-----------+--------------+-----------+-------------+---------+---------+-----------+------------+-------------+--------+--------+------------+----------+-------+-----------+-------+-------------------+-------------------+------------------------+-----------------------+----------------------+------+-----------+----------+\n",
            "|     2278392|    8222157|      Caucasian|Female| [0-10)|     ?|                6|                      25|                  1|               1|         ?|Pediatrics-Endocr...|                41|             0|              1|                0|               0|               0|250.83|     ?|     ?|               1|         None|     None|       No|         No|         No|            No|         No|           No|       No|       No|         No|          No|           No|      No|      No|          No|        No|     No|         No|     No|                 No|                 No|                      No|                     No|                    No|    No|         No|        NO|\n",
            "|      149190|   55629189|      Caucasian|Female|[10-20)|     ?|                1|                       1|                  7|               3|         ?|                   ?|                59|             0|             18|                0|               0|               0|   276|250.01|   255|               9|         None|     None|       No|         No|         No|            No|         No|           No|       No|       No|         No|          No|           No|      No|      No|          No|        No|     No|         No|     Up|                 No|                 No|                      No|                     No|                    No|    Ch|        Yes|       >30|\n",
            "|       64410|   86047875|AfricanAmerican|Female|[20-30)|     ?|                1|                       1|                  7|               2|         ?|                   ?|                11|             5|             13|                2|               0|               1|   648|   250|   V27|               6|         None|     None|       No|         No|         No|            No|         No|           No|   Steady|       No|         No|          No|           No|      No|      No|          No|        No|     No|         No|     No|                 No|                 No|                      No|                     No|                    No|    No|        Yes|        NO|\n",
            "|      500364|   82442376|      Caucasian|  Male|[30-40)|     ?|                1|                       1|                  7|               2|         ?|                   ?|                44|             1|             16|                0|               0|               0|     8|250.43|   403|               7|         None|     None|       No|         No|         No|            No|         No|           No|       No|       No|         No|          No|           No|      No|      No|          No|        No|     No|         No|     Up|                 No|                 No|                      No|                     No|                    No|    Ch|        Yes|        NO|\n",
            "|       16680|   42519267|      Caucasian|  Male|[40-50)|     ?|                1|                       1|                  7|               1|         ?|                   ?|                51|             0|              8|                0|               0|               0|   197|   157|   250|               5|         None|     None|       No|         No|         No|            No|         No|           No|   Steady|       No|         No|          No|           No|      No|      No|          No|        No|     No|         No| Steady|                 No|                 No|                      No|                     No|                    No|    Ch|        Yes|        NO|\n",
            "+------------+-----------+---------------+------+-------+------+-----------------+------------------------+-------------------+----------------+----------+--------------------+------------------+--------------+---------------+-----------------+----------------+----------------+------+------+------+----------------+-------------+---------+---------+-----------+-----------+--------------+-----------+-------------+---------+---------+-----------+------------+-------------+--------+--------+------------+----------+-------+-----------+-------+-------------------+-------------------+------------------------+-----------------------+----------------------+------+-----------+----------+\n",
            "only showing top 5 rows\n",
            "\n"
          ],
          "name": "stdout"
        }
      ]
    },
    {
      "cell_type": "code",
      "metadata": {
        "colab": {
          "base_uri": "https://localhost:8080/"
        },
        "id": "7xESk1afGOlR",
        "outputId": "437fae39-adfa-4674-fe48-715de141eeec"
      },
      "source": [
        "data.printSchema()"
      ],
      "execution_count": 6,
      "outputs": [
        {
          "output_type": "stream",
          "text": [
            "root\n",
            " |-- encounter_id: integer (nullable = true)\n",
            " |-- patient_nbr: integer (nullable = true)\n",
            " |-- race: string (nullable = true)\n",
            " |-- gender: string (nullable = true)\n",
            " |-- age: string (nullable = true)\n",
            " |-- weight: string (nullable = true)\n",
            " |-- admission_type_id: integer (nullable = true)\n",
            " |-- discharge_disposition_id: integer (nullable = true)\n",
            " |-- admission_source_id: integer (nullable = true)\n",
            " |-- time_in_hospital: integer (nullable = true)\n",
            " |-- payer_code: string (nullable = true)\n",
            " |-- medical_specialty: string (nullable = true)\n",
            " |-- num_lab_procedures: integer (nullable = true)\n",
            " |-- num_procedures: integer (nullable = true)\n",
            " |-- num_medications: integer (nullable = true)\n",
            " |-- number_outpatient: integer (nullable = true)\n",
            " |-- number_emergency: integer (nullable = true)\n",
            " |-- number_inpatient: integer (nullable = true)\n",
            " |-- diag_1: string (nullable = true)\n",
            " |-- diag_2: string (nullable = true)\n",
            " |-- diag_3: string (nullable = true)\n",
            " |-- number_diagnoses: integer (nullable = true)\n",
            " |-- max_glu_serum: string (nullable = true)\n",
            " |-- A1Cresult: string (nullable = true)\n",
            " |-- metformin: string (nullable = true)\n",
            " |-- repaglinide: string (nullable = true)\n",
            " |-- nateglinide: string (nullable = true)\n",
            " |-- chlorpropamide: string (nullable = true)\n",
            " |-- glimepiride: string (nullable = true)\n",
            " |-- acetohexamide: string (nullable = true)\n",
            " |-- glipizide: string (nullable = true)\n",
            " |-- glyburide: string (nullable = true)\n",
            " |-- tolbutamide: string (nullable = true)\n",
            " |-- pioglitazone: string (nullable = true)\n",
            " |-- rosiglitazone: string (nullable = true)\n",
            " |-- acarbose: string (nullable = true)\n",
            " |-- miglitol: string (nullable = true)\n",
            " |-- troglitazone: string (nullable = true)\n",
            " |-- tolazamide: string (nullable = true)\n",
            " |-- examide: string (nullable = true)\n",
            " |-- citoglipton: string (nullable = true)\n",
            " |-- insulin: string (nullable = true)\n",
            " |-- glyburide-metformin: string (nullable = true)\n",
            " |-- glipizide-metformin: string (nullable = true)\n",
            " |-- glimepiride-pioglitazone: string (nullable = true)\n",
            " |-- metformin-rosiglitazone: string (nullable = true)\n",
            " |-- metformin-pioglitazone: string (nullable = true)\n",
            " |-- change: string (nullable = true)\n",
            " |-- diabetesMed: string (nullable = true)\n",
            " |-- readmitted: string (nullable = true)\n",
            "\n"
          ],
          "name": "stdout"
        }
      ]
    },
    {
      "cell_type": "code",
      "metadata": {
        "colab": {
          "base_uri": "https://localhost:8080/",
          "height": 467
        },
        "id": "tip3ApBZGQzp",
        "outputId": "d9c063e2-2684-4bd5-cbd6-b3c0a2414738"
      },
      "source": [
        "numeric_features = [t[0] for t in data.dtypes if t[1] == 'int']\n",
        "data.select(numeric_features).describe().toPandas().transpose()"
      ],
      "execution_count": 7,
      "outputs": [
        {
          "output_type": "execute_result",
          "data": {
            "text/html": [
              "<div>\n",
              "<style scoped>\n",
              "    .dataframe tbody tr th:only-of-type {\n",
              "        vertical-align: middle;\n",
              "    }\n",
              "\n",
              "    .dataframe tbody tr th {\n",
              "        vertical-align: top;\n",
              "    }\n",
              "\n",
              "    .dataframe thead th {\n",
              "        text-align: right;\n",
              "    }\n",
              "</style>\n",
              "<table border=\"1\" class=\"dataframe\">\n",
              "  <thead>\n",
              "    <tr style=\"text-align: right;\">\n",
              "      <th></th>\n",
              "      <th>0</th>\n",
              "      <th>1</th>\n",
              "      <th>2</th>\n",
              "      <th>3</th>\n",
              "      <th>4</th>\n",
              "    </tr>\n",
              "  </thead>\n",
              "  <tbody>\n",
              "    <tr>\n",
              "      <th>summary</th>\n",
              "      <td>count</td>\n",
              "      <td>mean</td>\n",
              "      <td>stddev</td>\n",
              "      <td>min</td>\n",
              "      <td>max</td>\n",
              "    </tr>\n",
              "    <tr>\n",
              "      <th>encounter_id</th>\n",
              "      <td>101766</td>\n",
              "      <td>1.652016456229782E8</td>\n",
              "      <td>1.0264029598345754E8</td>\n",
              "      <td>12522</td>\n",
              "      <td>443867222</td>\n",
              "    </tr>\n",
              "    <tr>\n",
              "      <th>patient_nbr</th>\n",
              "      <td>101766</td>\n",
              "      <td>5.4330400694947235E7</td>\n",
              "      <td>3.869635934653452E7</td>\n",
              "      <td>135</td>\n",
              "      <td>189502619</td>\n",
              "    </tr>\n",
              "    <tr>\n",
              "      <th>admission_type_id</th>\n",
              "      <td>101766</td>\n",
              "      <td>2.024006053102215</td>\n",
              "      <td>1.4454028297561141</td>\n",
              "      <td>1</td>\n",
              "      <td>8</td>\n",
              "    </tr>\n",
              "    <tr>\n",
              "      <th>discharge_disposition_id</th>\n",
              "      <td>101766</td>\n",
              "      <td>3.7156417664052825</td>\n",
              "      <td>5.280165509299276</td>\n",
              "      <td>1</td>\n",
              "      <td>28</td>\n",
              "    </tr>\n",
              "    <tr>\n",
              "      <th>admission_source_id</th>\n",
              "      <td>101766</td>\n",
              "      <td>5.754436648782501</td>\n",
              "      <td>4.064080834283895</td>\n",
              "      <td>1</td>\n",
              "      <td>25</td>\n",
              "    </tr>\n",
              "    <tr>\n",
              "      <th>time_in_hospital</th>\n",
              "      <td>101766</td>\n",
              "      <td>4.395986871843248</td>\n",
              "      <td>2.985107767471271</td>\n",
              "      <td>1</td>\n",
              "      <td>14</td>\n",
              "    </tr>\n",
              "    <tr>\n",
              "      <th>num_lab_procedures</th>\n",
              "      <td>101766</td>\n",
              "      <td>43.09564098028811</td>\n",
              "      <td>19.674362249142067</td>\n",
              "      <td>1</td>\n",
              "      <td>132</td>\n",
              "    </tr>\n",
              "    <tr>\n",
              "      <th>num_procedures</th>\n",
              "      <td>101766</td>\n",
              "      <td>1.339730361810428</td>\n",
              "      <td>1.7058069791211607</td>\n",
              "      <td>0</td>\n",
              "      <td>6</td>\n",
              "    </tr>\n",
              "    <tr>\n",
              "      <th>num_medications</th>\n",
              "      <td>101766</td>\n",
              "      <td>16.021844230882614</td>\n",
              "      <td>8.127566209167297</td>\n",
              "      <td>1</td>\n",
              "      <td>81</td>\n",
              "    </tr>\n",
              "    <tr>\n",
              "      <th>number_outpatient</th>\n",
              "      <td>101766</td>\n",
              "      <td>0.36935715268360747</td>\n",
              "      <td>1.2672650965326813</td>\n",
              "      <td>0</td>\n",
              "      <td>42</td>\n",
              "    </tr>\n",
              "    <tr>\n",
              "      <th>number_emergency</th>\n",
              "      <td>101766</td>\n",
              "      <td>0.19783621248747127</td>\n",
              "      <td>0.9304722684224619</td>\n",
              "      <td>0</td>\n",
              "      <td>76</td>\n",
              "    </tr>\n",
              "    <tr>\n",
              "      <th>number_inpatient</th>\n",
              "      <td>101766</td>\n",
              "      <td>0.635565906098304</td>\n",
              "      <td>1.2628632900973247</td>\n",
              "      <td>0</td>\n",
              "      <td>21</td>\n",
              "    </tr>\n",
              "    <tr>\n",
              "      <th>number_diagnoses</th>\n",
              "      <td>101766</td>\n",
              "      <td>7.422606764538254</td>\n",
              "      <td>1.9336001449974192</td>\n",
              "      <td>1</td>\n",
              "      <td>16</td>\n",
              "    </tr>\n",
              "  </tbody>\n",
              "</table>\n",
              "</div>"
            ],
            "text/plain": [
              "                               0                     1  ...      3          4\n",
              "summary                    count                  mean  ...    min        max\n",
              "encounter_id              101766   1.652016456229782E8  ...  12522  443867222\n",
              "patient_nbr               101766  5.4330400694947235E7  ...    135  189502619\n",
              "admission_type_id         101766     2.024006053102215  ...      1          8\n",
              "discharge_disposition_id  101766    3.7156417664052825  ...      1         28\n",
              "admission_source_id       101766     5.754436648782501  ...      1         25\n",
              "time_in_hospital          101766     4.395986871843248  ...      1         14\n",
              "num_lab_procedures        101766     43.09564098028811  ...      1        132\n",
              "num_procedures            101766     1.339730361810428  ...      0          6\n",
              "num_medications           101766    16.021844230882614  ...      1         81\n",
              "number_outpatient         101766   0.36935715268360747  ...      0         42\n",
              "number_emergency          101766   0.19783621248747127  ...      0         76\n",
              "number_inpatient          101766     0.635565906098304  ...      0         21\n",
              "number_diagnoses          101766     7.422606764538254  ...      1         16\n",
              "\n",
              "[14 rows x 5 columns]"
            ]
          },
          "metadata": {
            "tags": []
          },
          "execution_count": 7
        }
      ]
    },
    {
      "cell_type": "code",
      "metadata": {
        "id": "ZSeSgrLRHBHt"
      },
      "source": [
        "data = data.select(\"encounter_id\", \"patient_nbr\", \"admission_type_id\", \"discharge_disposition_id\", \"admission_source_id\", \"time_in_hospital\", \"num_lab_procedures\", \"num_procedures\", \"num_medications\", \"number_outpatient\", \"number_emergency\", \"number_inpatient\", \"number_diagnoses\")\n"
      ],
      "execution_count": 8,
      "outputs": []
    },
    {
      "cell_type": "code",
      "metadata": {
        "id": "t0mLqEaZHFJz"
      },
      "source": [
        "# Create vector assembler for feature columns\n",
        "assembler = VectorAssembler(inputCols=data.columns, outputCol=\"features\")\n",
        "data = assembler.transform(data)"
      ],
      "execution_count": 9,
      "outputs": []
    },
    {
      "cell_type": "code",
      "metadata": {
        "id": "f3lTQO2PH2jv"
      },
      "source": [
        "# Trains a k-means model.\n",
        "kmeans = KMeans().setK(4).setSeed(1)\n",
        "model = kmeans.fit(data)"
      ],
      "execution_count": 12,
      "outputs": []
    },
    {
      "cell_type": "code",
      "metadata": {
        "colab": {
          "base_uri": "https://localhost:8080/"
        },
        "id": "lMgqQM6EH9xV",
        "outputId": "e3d3cc2a-0189-420c-d06d-bc89670ae8d6"
      },
      "source": [
        "# Make predictions\n",
        "predictions = model.transform(data)\n",
        "\n",
        "# Shows the result.\n",
        "centers = model.clusterCenters()\n",
        "print(\"Cluster Centers: \")\n",
        "for center in centers:\n",
        "    print(center)"
      ],
      "execution_count": 13,
      "outputs": [
        {
          "output_type": "stream",
          "text": [
            "Cluster Centers: \n",
            "[2.52253565e+08 6.69269641e+07 1.75386082e+00 3.10166826e+00\n",
            " 5.45081030e+00 4.18875119e+00 4.36344137e+01 1.31282173e+00\n",
            " 1.66933746e+01 5.58198284e-01 2.97855100e-01 7.11058151e-01\n",
            " 7.99285033e+00]\n",
            "[6.37113388e+07 2.36018150e+07 2.28603305e+00 4.73503742e+00\n",
            " 6.76842254e+00 4.60556419e+00 4.38627313e+01 1.39341901e+00\n",
            " 1.53232029e+01 1.86216636e-01 9.04674481e-02 5.78675328e-01\n",
            " 6.67843525e+00]\n",
            "[1.54459882e+08 6.62242825e+07 2.02153280e+00 3.27142655e+00\n",
            " 4.99793172e+00 4.37988384e+00 4.23099589e+01 1.29689758e+00\n",
            " 1.61003258e+01 4.10454739e-01 2.23629409e-01 6.47967134e-01\n",
            " 7.60481655e+00]\n",
            "[3.77976343e+08 9.43735415e+07 1.67479675e+00 2.96886774e+00\n",
            " 5.47392425e+00 4.14772953e+00 4.20316280e+01 1.35712869e+00\n",
            " 1.68027960e+01 4.75609756e-01 2.76422764e-01 6.34840373e-01\n",
            " 8.21108467e+00]\n"
          ],
          "name": "stdout"
        }
      ]
    }
  ]
}